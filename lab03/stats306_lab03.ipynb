{
 "cells": [
  {
   "cell_type": "markdown",
   "metadata": {},
   "source": [
    "# Lab 3: Data Manipulation\n"
   ]
  },
  {
   "cell_type": "markdown",
   "metadata": {},
   "source": [
    "Brian Manzo \n",
    "\n",
    "Wednesday 8:30-9:50am, 2260 USB"
   ]
  },
  {
   "cell_type": "markdown",
   "metadata": {},
   "source": [
    "## Preliminaries\n",
    "\n",
    "1. Piazza reminders\n",
    "    - When asking a homework question, gather all relevant information to your problem to make it *reproduceable*\n",
    "        - What operating system are you using (Windows/Mac)\n",
    "        - What version of R are you using?\n",
    "        - What versions of packages are you using? (run sessionInfo() after loading packages to see)\n",
    "        - What code did you run before running into your problem?\n",
    "        - What does the output say?\n",
    "        - Take a screenshot or picture for best results\n",
    "2. Google Colab demonstration"
   ]
  },
  {
   "cell_type": "code",
   "execution_count": null,
   "metadata": {
    "scrolled": true
   },
   "outputs": [],
   "source": [
    "library(tidyverse) # load tidyverse"
   ]
  },
  {
   "cell_type": "code",
   "execution_count": null,
   "metadata": {},
   "outputs": [],
   "source": [
    "tennis_data = read.csv('https://raw.githubusercontent.com/bmanzo/stats306_labs/master/lab03/FrenchOpen-men-2013.csv')"
   ]
  },
  {
   "cell_type": "code",
   "execution_count": null,
   "metadata": {},
   "outputs": [],
   "source": [
    "head(tennis_data)"
   ]
  },
  {
   "cell_type": "markdown",
   "metadata": {},
   "source": [
    "https://archive.ics.uci.edu/ml/datasets/Tennis+Major+Tournament+Match+Statistics#"
   ]
  },
  {
   "cell_type": "markdown",
   "metadata": {},
   "source": [
    "## `dplyr` functions"
   ]
  },
  {
   "cell_type": "markdown",
   "metadata": {},
   "source": [
    "The `filter` function is used to retrieve a subset of the full dataset"
   ]
  },
  {
   "cell_type": "markdown",
   "metadata": {},
   "source": [
    "Roger Federer is a very famous tennis player. Let's use `filter` to find all the matches in which he played in the 2013 French Open."
   ]
  },
  {
   "cell_type": "code",
   "execution_count": null,
   "metadata": {},
   "outputs": [],
   "source": [
    "(federer = tennis_data %>% \n",
    "            filter(Player1=='Roger Federer' | Player2=='Roger Federer')) "
   ]
  },
  {
   "cell_type": "markdown",
   "metadata": {},
   "source": [
    "If you want to assign as well as print the variable, enclose the command in parentheses."
   ]
  },
  {
   "cell_type": "markdown",
   "metadata": {},
   "source": [
    "The above table is useful, but we don't need all of the columns. We can use `select` to only show a subset of the columns. Create a new table, `fed_select`, which only shows the fields `Player1`, `Player2`, `Round`, and `Result`."
   ]
  },
  {
   "cell_type": "code",
   "execution_count": null,
   "metadata": {},
   "outputs": [],
   "source": [
    "(fed_select = tennis_data %>% \n",
    "                 filter(Player1=='Roger Federer' | Player2=='Roger Federer') %>% select(Player1:Result))"
   ]
  },
  {
   "cell_type": "markdown",
   "metadata": {},
   "source": [
    "We can use functions such as `between` or the `%in%` operator. "
   ]
  },
  {
   "cell_type": "code",
   "execution_count": null,
   "metadata": {},
   "outputs": [],
   "source": [
    "greats = c('Roger Federer', 'Novak Djokovic', 'Rafael Nadal')\n",
    "top_three = tennis_data %>% \n",
    "                filter(Player1 %in% greats | Player2 %in% greats)"
   ]
  },
  {
   "cell_type": "code",
   "execution_count": null,
   "metadata": {},
   "outputs": [],
   "source": [
    "middle_round = tennis_data %>% \n",
    "                filter(between(Round, 3, 5))"
   ]
  },
  {
   "cell_type": "markdown",
   "metadata": {},
   "source": [
    "Suppose we are interested in the later rounds of the tournament. We can use the `arrange` function to order rows instead of filtering for a subset of them. "
   ]
  },
  {
   "cell_type": "code",
   "execution_count": null,
   "metadata": {},
   "outputs": [],
   "source": [
    "tennis_data %>% \n",
    "    arrange(desc(Round)) %>% \n",
    "    head()"
   ]
  },
  {
   "cell_type": "markdown",
   "metadata": {},
   "source": [
    "Notice how in the above code, we use `desc()` to sort from largest to smallest. "
   ]
  },
  {
   "cell_type": "markdown",
   "metadata": {},
   "source": [
    "Unforced errors are bad, so we might be interested in finding matches with the fewest unforced errors.  \n",
    "Again we'll use the `select` function because we are only interested in some of the columns. "
   ]
  },
  {
   "cell_type": "code",
   "execution_count": null,
   "metadata": {},
   "outputs": [],
   "source": [
    "tennis_data %>% \n",
    "    arrange(UFE.1+UFE.2) %>% # notice the table is sorted by a variable that we computed\n",
    "    select(Player1:Result, UFE.1,UFE.2) %>% \n",
    "    head() # use head so the whole table doesn't print out"
   ]
  },
  {
   "cell_type": "markdown",
   "metadata": {},
   "source": [
    "Remember that `select` has some helper functions. How could we rewrite the above code using `starts_with`?"
   ]
  },
  {
   "cell_type": "code",
   "execution_count": null,
   "metadata": {
    "scrolled": true
   },
   "outputs": [],
   "source": [
    "tennis_data %>% \n",
    "    arrange(UFE.1+UFE.2) %>% \n",
    "    select(Player1:Result, starts_with('UFE')) %>% \n",
    "    head()"
   ]
  },
  {
   "cell_type": "markdown",
   "metadata": {},
   "source": [
    "We can also use `contains()`"
   ]
  },
  {
   "cell_type": "code",
   "execution_count": null,
   "metadata": {},
   "outputs": [],
   "source": [
    "tennis_data %>% \n",
    "    arrange(UFE.1+UFE.2) %>% \n",
    "    select(Player1:Result, contains('UFE')) %>% \n",
    "    head()"
   ]
  },
  {
   "cell_type": "markdown",
   "metadata": {},
   "source": [
    "Notice that variables corresponding to `Player1` end in `1`. How would we select all the player 1 variables?"
   ]
  },
  {
   "cell_type": "code",
   "execution_count": null,
   "metadata": {},
   "outputs": [],
   "source": [
    "tennis_data %>% \n",
    "    select(ends_with('1')) %>% \n",
    "    head() "
   ]
  },
  {
   "cell_type": "markdown",
   "metadata": {},
   "source": [
    "### `mutate`"
   ]
  },
  {
   "cell_type": "markdown",
   "metadata": {},
   "source": [
    "We are likely interested in some aggregate statistics, i.e., combining the results of players 1 and 2 in a match. We'll use `mutate` to create new variables to analyze these statistics.  "
   ]
  },
  {
   "cell_type": "markdown",
   "metadata": {},
   "source": [
    "Suppose we're interested in looking at the length of matches (how many sets are played). One way to do this is to add `FNL1` (total number of sets won by player 1) to `FNL2` (total for player 2). "
   ]
  },
  {
   "cell_type": "code",
   "execution_count": null,
   "metadata": {},
   "outputs": [],
   "source": [
    "tennis_data_2 = tennis_data %>% \n",
    "                    mutate(total_sets = FNL.1 + FNL.2)"
   ]
  },
  {
   "cell_type": "markdown",
   "metadata": {},
   "source": [
    "Now we can sort the matches from longest to shortest. "
   ]
  },
  {
   "cell_type": "code",
   "execution_count": null,
   "metadata": {},
   "outputs": [],
   "source": [
    "tennis_data_2 %>% \n",
    "    arrange(desc(total_sets)) %>% \n",
    "    head()"
   ]
  },
  {
   "cell_type": "markdown",
   "metadata": {},
   "source": [
    "## Exercises"
   ]
  },
  {
   "cell_type": "markdown",
   "metadata": {},
   "source": [
    "1. A better measure of match length might be to measure the total number of points played. Compute `total_points` from the variables `TPW.1` and `TPW.2`. Add this to `tennis_data_2`.\n",
    "2. Create a variable `ace_rate` which is the total number of aces in a match divided by the total number of points played. Add this to `tennis_data_2`.\n",
    "3. Create a variable `cilic` that is `TRUE` for all matches in which Marin Cilic played and `FALSE` otherwise. \n",
    "4. Sort the data by `Round`, then by `ace_rate` \n",
    "5. Create a table containing all matches before the 6th round in which both players had a first serve percentage above 65% \n",
    "6. A player wins in straight sets if his opponent does not win a single set. How many matches were *not* won in straight sets. "
   ]
  },
  {
   "cell_type": "code",
   "execution_count": null,
   "metadata": {},
   "outputs": [],
   "source": [
    "#1 \n",
    "tennis_data_2 = tennis_data_2 %>% mutate(total_points = TPW.1 + TPW.2) "
   ]
  },
  {
   "cell_type": "code",
   "execution_count": null,
   "metadata": {},
   "outputs": [],
   "source": [
    "#2 \n",
    "tennis_data_2 = tennis_data_2 %>% mutate(ace_rate = (ACE.1+ACE.2)/total_points)"
   ]
  },
  {
   "cell_type": "code",
   "execution_count": null,
   "metadata": {},
   "outputs": [],
   "source": [
    "#3\n",
    "mutate(tennis_data_2, cilic=(Player1=='Marin Cilic' | Player2=='Marin Cilic')) %>% head()"
   ]
  },
  {
   "cell_type": "code",
   "execution_count": null,
   "metadata": {},
   "outputs": [],
   "source": [
    "#4\n",
    "tennis_data_2 %>% \n",
    "    arrange(Round, ace_rate) %>% \n",
    "    head()"
   ]
  },
  {
   "cell_type": "code",
   "execution_count": null,
   "metadata": {
    "scrolled": true
   },
   "outputs": [],
   "source": [
    "#5 \n",
    "tennis_data_2 %>% filter(Round < 6, FSP.1>65, FSP.2>65)"
   ]
  },
  {
   "cell_type": "code",
   "execution_count": null,
   "metadata": {},
   "outputs": [],
   "source": [
    "#6\n",
    "tennis_data_2 %>% \n",
    "    filter(FNL.1 > 0, FNL.2 > 0) %>% \n",
    "    nrow()"
   ]
  },
  {
   "cell_type": "markdown",
   "metadata": {},
   "source": [
    "## `summarise`"
   ]
  },
  {
   "cell_type": "markdown",
   "metadata": {},
   "source": [
    "You'll learn more about data summaries in this week's lecture, but we'll introduce the concept here. "
   ]
  },
  {
   "cell_type": "code",
   "execution_count": null,
   "metadata": {},
   "outputs": [],
   "source": [
    "tennis_data_2 %>% \n",
    "    summarise(total_matches=n(), avg_points = mean(total_points), avg_sets = mean(total_sets))"
   ]
  },
  {
   "cell_type": "markdown",
   "metadata": {},
   "source": [
    "We can combine the summarise operation with other operations from `dplyr`"
   ]
  },
  {
   "cell_type": "code",
   "execution_count": null,
   "metadata": {},
   "outputs": [],
   "source": [
    "tennis_data_2 %>% \n",
    "    group_by(Round) %>% \n",
    "    summarise(total_matches=n(), avg_points = mean(total_points))"
   ]
  },
  {
   "cell_type": "code",
   "execution_count": null,
   "metadata": {},
   "outputs": [],
   "source": [
    "usa_players = c('Sam Querrey', 'John Isner')\n",
    "tennis_data_2 %>% \n",
    "    group_by(Player1 %in% usa_players | Player2 %in% usa_players) %>% \n",
    "    summarise(avg_ace = mean(ace_rate))"
   ]
  },
  {
   "cell_type": "markdown",
   "metadata": {},
   "source": [
    "We can even sort the summary table based on the results of the summary statistics"
   ]
  },
  {
   "cell_type": "code",
   "execution_count": null,
   "metadata": {},
   "outputs": [],
   "source": [
    "tennis_data_2 %>% \n",
    "    filter(Round < 5) %>% \n",
    "    group_by(Round) %>% \n",
    "    summarise(avg_FSP = mean((FSP.1 + FSP.2)/2)) %>% \n",
    "    arrange(desc(avg_FSP))"
   ]
  },
  {
   "cell_type": "markdown",
   "metadata": {},
   "source": [
    "We can assign summary tables to variables and then plot them."
   ]
  },
  {
   "cell_type": "code",
   "execution_count": null,
   "metadata": {},
   "outputs": [],
   "source": [
    "round = tennis_data_2 %>% \n",
    "        filter(total_sets > 2) %>%\n",
    "        group_by(Round) %>%\n",
    "        summarise(avg_ace = mean(ace_rate), avg_points = mean(total_points))"
   ]
  },
  {
   "cell_type": "code",
   "execution_count": null,
   "metadata": {},
   "outputs": [],
   "source": [
    "ggplot(round) + \n",
    "    geom_bar(aes(x=Round, y=avg_points),stat='identity', fill='green')"
   ]
  }
 ],
 "metadata": {
  "kernelspec": {
   "display_name": "R",
   "language": "R",
   "name": "ir"
  },
  "language_info": {
   "codemirror_mode": "r",
   "file_extension": ".r",
   "mimetype": "text/x-r-source",
   "name": "R",
   "pygments_lexer": "r",
   "version": "3.6.1"
  }
 },
 "nbformat": 4,
 "nbformat_minor": 2
}

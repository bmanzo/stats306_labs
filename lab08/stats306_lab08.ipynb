{
 "cells": [
  {
   "cell_type": "markdown",
   "metadata": {},
   "source": [
    "# Lab 8: Regular Expressions and Factors\n"
   ]
  },
  {
   "cell_type": "markdown",
   "metadata": {},
   "source": [
    "Brian Manzo (thank you to Derek Hansen for preparing this week's lab) \n",
    "\n",
    "Wednesday 8:30-9:50am, ~~USB 2260~~ [Zoom](https://umich.instructure.com/courses/387338/external_tools/25194)"
   ]
  },
  {
   "cell_type": "markdown",
   "metadata": {},
   "source": [
    "# Preliminaries\n",
    "\n",
    "1. Final project\n",
    "2. Homework 6 "
   ]
  },
  {
   "cell_type": "markdown",
   "metadata": {},
   "source": [
    "# Regular Expressions\n"
   ]
  },
  {
   "cell_type": "code",
   "execution_count": 1,
   "metadata": {},
   "outputs": [
    {
     "name": "stderr",
     "output_type": "stream",
     "text": [
      "Registered S3 methods overwritten by 'ggplot2':\n",
      "  method         from \n",
      "  [.quosures     rlang\n",
      "  c.quosures     rlang\n",
      "  print.quosures rlang\n",
      "Registered S3 method overwritten by 'rvest':\n",
      "  method            from\n",
      "  read_xml.response xml2\n",
      "── Attaching packages ─────────────────────────────────────── tidyverse 1.2.1 ──\n",
      "✔ ggplot2 3.1.1     ✔ purrr   0.3.2\n",
      "✔ tibble  3.0.3     ✔ dplyr   1.0.2\n",
      "✔ tidyr   1.1.2     ✔ stringr 1.4.0\n",
      "✔ readr   1.3.1     ✔ forcats 0.4.0\n",
      "── Conflicts ────────────────────────────────────────── tidyverse_conflicts() ──\n",
      "✖ dplyr::filter() masks stats::filter()\n",
      "✖ dplyr::lag()    masks stats::lag()\n"
     ]
    }
   ],
   "source": [
    "library(tidyverse)"
   ]
  },
  {
   "cell_type": "markdown",
   "metadata": {},
   "source": [
    "## Regular Expressions are Hard"
   ]
  },
  {
   "cell_type": "markdown",
   "metadata": {},
   "source": [
    "-  Even seasoned programmers often struggle with regular expressions; they require a lot of practice to master.\n",
    "-  Many people have written entire books with different animals on the cover just on the topic, and this is just from one publisher.\n"
   ]
  },
  {
   "cell_type": "markdown",
   "metadata": {},
   "source": [
    "![owl](https://raw.githubusercontent.com/dereklhansen/stats306_lab/master/lab8/owl.jpg)\n",
    "![weasel](https://raw.githubusercontent.com/dereklhansen/stats306_lab/master/lab8/weasel.jpg)\n",
    "![bat](https://raw.githubusercontent.com/dereklhansen/stats306_lab/master/lab8/bat.jpg)\n"
   ]
  },
  {
   "cell_type": "markdown",
   "metadata": {},
   "source": [
    "-  This website will let you test out regular expressions on the fly: https://www.regexpal.com/\n",
    "-  Be sure to check the \"multiline\" box under \"flags\""
   ]
  },
  {
   "cell_type": "markdown",
   "metadata": {},
   "source": [
    "![](https://raw.githubusercontent.com/dereklhansen/stats306_lab/master/lab8/regex_pal2.png)"
   ]
  },
  {
   "cell_type": "markdown",
   "metadata": {},
   "source": [
    "## RegExr\n",
    "-  RegExr is a more powerful website that color-codes expressions as you build them: https://regexr.com/"
   ]
  },
  {
   "cell_type": "markdown",
   "metadata": {},
   "source": [
    "![](https://raw.githubusercontent.com/dereklhansen/stats306_lab/master/lab8/regexr.png)"
   ]
  },
  {
   "cell_type": "markdown",
   "metadata": {},
   "source": [
    "## Using Regular Expressions in dplyr\n",
    "- Regular expressions aren't just useful for text data. It is also useful when data comes in a wide format with many columns that are hard to reconcile.\n",
    "- Here we a table of crime data by age, sex, and race from the ICSPR at the University of Michigan (original source here: https://www.icpsr.umich.edu/web/NACJD/studies/36115)\n",
    "- As you'll see below, each row corresponds to a particular agency, month, and offense. The subsequent columns denotes counts of gender-age crimes (e.g. \"F20\" is how many reports for females age 20), or of different racial groups which are broken up by juvenile-status and race (\"AW\" is Adult White).\n",
    "- While high-quality, this data is not very tidy; it is good example of how data actually comes in the real world.\n"
   ]
  },
  {
   "cell_type": "code",
   "execution_count": 2,
   "metadata": {
    "scrolled": true
   },
   "outputs": [
    {
     "name": "stderr",
     "output_type": "stream",
     "text": [
      "Parsed with column specification:\n",
      "cols(\n",
      "  .default = col_double(),\n",
      "  ORI = col_character(),\n",
      "  GROUP = col_character(),\n",
      "  CORE = col_character(),\n",
      "  AGENCY = col_character(),\n",
      "  STNAME = col_character(),\n",
      "  OFFENSE = col_character()\n",
      ")\n",
      "See spec(...) for full column specifications.\n"
     ]
    }
   ],
   "source": [
    "icpsr_raw <- read_csv(\"https://raw.githubusercontent.com/dereklhansen/stats306_lab/master/lab8/icpsr_raw.csv\")"
   ]
  },
  {
   "cell_type": "code",
   "execution_count": 3,
   "metadata": {
    "scrolled": false
   },
   "outputs": [
    {
     "name": "stdout",
     "output_type": "stream",
     "text": [
      "Rows: 58,277\n",
      "Columns: 89\n",
      "$ ASR_ID   <dbl> 3, 3, 3, 3, 3, 3, 3, 3, 3, 3, 3, 3, 3, 3, 3, 3, 3, 3, 3, 3, …\n",
      "$ CONTENTS <dbl> 3, 3, 3, 3, 3, 3, 3, 3, 3, 3, 3, 3, 3, 3, 3, 3, 3, 3, 3, 3, …\n",
      "$ STATE    <dbl> 21, 21, 21, 21, 21, 21, 21, 21, 21, 21, 21, 21, 21, 21, 21, …\n",
      "$ ORI      <chr> \"MI01001\", \"MI01001\", \"MI01001\", \"MI01001\", \"MI01001\", \"MI01…\n",
      "$ GROUP    <chr> \"8D\", \"8D\", \"8D\", \"8D\", \"8D\", \"8D\", \"8D\", \"8D\", \"8D\", \"8D\", …\n",
      "$ DIV      <dbl> 3, 3, 3, 3, 3, 3, 3, 3, 3, 3, 3, 3, 3, 3, 3, 3, 3, 3, 3, 3, …\n",
      "$ AGHEADER <dbl> 0, 0, 0, 0, 0, 0, 0, 0, 0, 0, 0, 0, 0, 0, 0, 0, 0, 0, 0, 0, …\n",
      "$ YEAR     <dbl> 2013, 2013, 2013, 2013, 2013, 2013, 2013, 2013, 2013, 2013, …\n",
      "$ MSA      <dbl> 998, 998, 998, 998, 998, 998, 998, 998, 998, 998, 998, 998, …\n",
      "$ COUNTY   <dbl> 1, 1, 1, 1, 1, 1, 1, 1, 1, 1, 1, 1, 1, 1, 1, 1, 1, 1, 1, 1, …\n",
      "$ SEQNO    <dbl> 70480, 70480, 70480, 70480, 70480, 70480, 70480, 70480, 7048…\n",
      "$ SUB      <dbl> 0, 0, 0, 0, 0, 0, 0, 0, 0, 0, 0, 0, 0, 0, 0, 0, 0, 0, 0, 0, …\n",
      "$ CORE     <chr> \"N\", \"N\", \"N\", \"N\", \"N\", \"N\", \"N\", \"N\", \"N\", \"N\", \"N\", \"N\", …\n",
      "$ COVBY    <dbl> 0, 0, 0, 0, 0, 0, 0, 0, 0, 0, 0, 0, 0, 0, 0, 0, 0, 0, 0, 0, …\n",
      "$ POP      <dbl> 0, 0, 0, 0, 0, 0, 0, 0, 0, 0, 0, 0, 0, 0, 0, 0, 0, 0, 0, 0, …\n",
      "$ AGENCY   <chr> \"SP: ALCONA COUNTY\", \"SP: ALCONA COUNTY\", \"SP: ALCONA COUNTY…\n",
      "$ STNAME   <chr> \"MICH\", \"MICH\", \"MICH\", \"MICH\", \"MICH\", \"MICH\", \"MICH\", \"MIC…\n",
      "$ MONTH    <dbl> 1, 2, 3, 3, 3, 4, 4, 4, 5, 5, 5, 6, 6, 6, 6, 6, 6, 6, 7, 8, …\n",
      "$ MOHEADER <dbl> 0, 0, 0, 0, 0, 0, 0, 0, 0, 0, 0, 0, 0, 0, 0, 0, 0, 0, 0, 0, …\n",
      "$ BREAK    <dbl> 0, 0, 3, 3, 3, 3, 3, 3, 3, 3, 3, 3, 3, 3, 3, 3, 3, 3, 0, 3, …\n",
      "$ AREO     <dbl> 3, 3, 3, 3, 3, 3, 3, 3, 3, 3, 3, 3, 3, 3, 3, 3, 3, 3, 3, 3, …\n",
      "$ ZERO     <dbl> 0, 0, 0, 0, 0, 0, 0, 0, 0, 0, 0, 0, 0, 0, 0, 0, 0, 0, 0, 0, …\n",
      "$ DTLASTUP <dbl> 11415, 11415, 11415, 11415, 11415, 11415, 11415, 11415, 1141…\n",
      "$ DTPRUP1  <dbl> 0, 0, 0, 0, 0, 0, 0, 0, 0, 0, 0, 0, 0, 0, 0, 0, 0, 0, 0, 0, …\n",
      "$ DTPRUP2  <dbl> 0, 0, 0, 0, 0, 0, 0, 0, 0, 0, 0, 0, 0, 0, 0, 0, 0, 0, 0, 0, …\n",
      "$ JUVDISP  <dbl> 1, 1, 1, 1, 1, 1, 1, 1, 1, 1, 1, 1, 1, 1, 1, 1, 1, 1, 1, 1, …\n",
      "$ JDHANDDP <dbl> 0, 0, 0, 0, 0, 0, 0, 0, 0, 0, 0, 0, 0, 0, 0, 0, 0, 0, 0, 0, …\n",
      "$ JDREFJC  <dbl> 0, 0, 0, 0, 0, 0, 0, 0, 0, 0, 0, 0, 0, 0, 0, 0, 0, 0, 0, 0, …\n",
      "$ JDREFWA  <dbl> 0, 0, 0, 0, 0, 0, 0, 0, 0, 0, 0, 0, 0, 0, 0, 0, 0, 0, 0, 0, …\n",
      "$ JDREFOPA <dbl> 0, 0, 0, 0, 0, 0, 0, 0, 0, 0, 0, 0, 0, 0, 0, 0, 0, 0, 0, 0, …\n",
      "$ JDREFCC  <dbl> 0, 0, 0, 0, 0, 0, 0, 0, 0, 0, 0, 0, 0, 0, 0, 0, 0, 0, 0, 0, …\n",
      "$ OFFENSE  <chr> \"26\", \"26\", \"18\", \"185\", \"18F\", \"18\", \"180\", \"18D\", \"18\", \"1…\n",
      "$ OCCUR    <dbl> 2, 2, 4, 4, 4, 3, 2, 2, 3, 3, 3, 2, 2, 4, 4, 3, 3, 2, 2, 2, …\n",
      "$ M0_9     <dbl> 99999, 99999, 99999, 99999, 99999, 99999, 99999, 99999, 9999…\n",
      "$ M10_12   <dbl> 99999, 99999, 99999, 99999, 99999, 99999, 99999, 99999, 9999…\n",
      "$ M13_14   <dbl> 99999, 99999, 99999, 99999, 99999, 99999, 99999, 99999, 9999…\n",
      "$ M15      <dbl> 99999, 99999, 99999, 99999, 99999, 99999, 99999, 99999, 9999…\n",
      "$ M16      <dbl> 99999, 99999, 99999, 99999, 99999, 99999, 99999, 99999, 9999…\n",
      "$ M17      <dbl> 99999, 99999, 99999, 99999, 99999, 99999, 99999, 99999, 9999…\n",
      "$ M18      <dbl> 99999, 99999, 99999, 99999, 99999, 99999, 99999, 99999, 9999…\n",
      "$ M19      <dbl> 99999, 99999, 99999, 99999, 99999, 99999, 99999, 99999, 9999…\n",
      "$ M20      <dbl> 99999, 99999, 99999, 99999, 99999, 99999, 99999, 99999, 9999…\n",
      "$ M21      <dbl> 99999, 99999, 99999, 99999, 99999, 99999, 99999, 99999, 9999…\n",
      "$ M22      <dbl> 99999, 99999, 99999, 99999, 99999, 99999, 99999, 99999, 9999…\n",
      "$ M23      <dbl> 99999, 99999, 1, 1, 1, 99999, 99999, 99999, 99999, 99999, 99…\n",
      "$ M24      <dbl> 99999, 99999, 1, 1, 1, 99999, 99999, 99999, 99999, 99999, 99…\n",
      "$ M25_29   <dbl> 99999, 99999, 2, 2, 2, 99999, 99999, 99999, 2, 2, 2, 99999, …\n",
      "$ M30_34   <dbl> 99999, 99999, 99999, 99999, 99999, 1, 99999, 99999, 1, 1, 1,…\n",
      "$ M35_39   <dbl> 99999, 1, 99999, 99999, 99999, 99999, 99999, 99999, 99999, 9…\n",
      "$ M40_44   <dbl> 99999, 99999, 99999, 99999, 99999, 99999, 99999, 99999, 9999…\n",
      "$ M45_49   <dbl> 99999, 99999, 99999, 99999, 99999, 99999, 99999, 99999, 9999…\n",
      "$ M50_54   <dbl> 99999, 99999, 99999, 99999, 99999, 99999, 99999, 99999, 9999…\n",
      "$ M55_59   <dbl> 99999, 99999, 99999, 99999, 99999, 1, 1, 1, 99999, 99999, 99…\n",
      "$ M60_64   <dbl> 99999, 99999, 99999, 99999, 99999, 99999, 99999, 99999, 9999…\n",
      "$ M65      <dbl> 99999, 99999, 99999, 99999, 99999, 99999, 99999, 99999, 9999…\n",
      "$ F0_9     <dbl> 99999, 99999, 99999, 99999, 99999, 99999, 99999, 99999, 9999…\n",
      "$ F10_12   <dbl> 99999, 99999, 99999, 99999, 99999, 99999, 99999, 99999, 9999…\n",
      "$ F13_14   <dbl> 99999, 99999, 99999, 99999, 99999, 99999, 99999, 99999, 9999…\n",
      "$ F15      <dbl> 99999, 99999, 99999, 99999, 99999, 99999, 99999, 99999, 9999…\n",
      "$ F16      <dbl> 99999, 99999, 99999, 99999, 99999, 99999, 99999, 99999, 9999…\n",
      "$ F17      <dbl> 99999, 99999, 99999, 99999, 99999, 99999, 99999, 99999, 9999…\n",
      "$ F18      <dbl> 99999, 99999, 99999, 99999, 99999, 99999, 99999, 99999, 9999…\n",
      "$ F19      <dbl> 99999, 99999, 99999, 99999, 99999, 99999, 99999, 99999, 9999…\n",
      "$ F20      <dbl> 99999, 99999, 99999, 99999, 99999, 99999, 99999, 99999, 9999…\n",
      "$ F21      <dbl> 99999, 99999, 99999, 99999, 99999, 99999, 99999, 99999, 9999…\n",
      "$ F22      <dbl> 99999, 99999, 99999, 99999, 99999, 99999, 99999, 99999, 9999…\n",
      "$ F23      <dbl> 99999, 99999, 99999, 99999, 99999, 99999, 99999, 99999, 9999…\n",
      "$ F24      <dbl> 99999, 99999, 99999, 99999, 99999, 99999, 99999, 99999, 9999…\n",
      "$ F25_29   <dbl> 99999, 99999, 99999, 99999, 99999, 99999, 99999, 99999, 9999…\n",
      "$ F30_34   <dbl> 99999, 99999, 99999, 99999, 99999, 99999, 99999, 99999, 9999…\n",
      "$ F35_39   <dbl> 99999, 99999, 99999, 99999, 99999, 99999, 99999, 99999, 9999…\n",
      "$ F40_44   <dbl> 1, 99999, 99999, 99999, 99999, 99999, 99999, 99999, 99999, 9…\n",
      "$ F45_49   <dbl> 99999, 99999, 99999, 99999, 99999, 99999, 99999, 99999, 9999…\n",
      "$ F50_54   <dbl> 99999, 99999, 99999, 99999, 99999, 99999, 99999, 99999, 9999…\n",
      "$ F55_59   <dbl> 99999, 99999, 99999, 99999, 99999, 99999, 99999, 99999, 9999…\n",
      "$ F60_64   <dbl> 99999, 99999, 99999, 99999, 99999, 99999, 99999, 99999, 9999…\n",
      "$ F65      <dbl> 99999, 99999, 99999, 99999, 99999, 99999, 99999, 99999, 9999…\n",
      "$ AW       <dbl> 1, 1, 4, 4, 4, 2, 1, 1, 3, 3, 3, 1, 1, 4, 4, 2, 2, 1, 1, 1, …\n",
      "$ AB       <dbl> 99999, 99999, 99999, 99999, 99999, 99999, 99999, 99999, 9999…\n",
      "$ AI       <dbl> 99999, 99999, 99999, 99999, 99999, 99999, 99999, 99999, 9999…\n",
      "$ AA       <dbl> 99999, 99999, 99999, 99999, 99999, 99999, 99999, 99999, 9999…\n",
      "$ JW       <dbl> 99999, 99999, 99999, 99999, 99999, 99999, 99999, 99999, 9999…\n",
      "$ JB       <dbl> 99999, 99999, 99999, 99999, 99999, 99999, 99999, 99999, 9999…\n",
      "$ JI       <dbl> 99999, 99999, 99999, 99999, 99999, 99999, 99999, 99999, 9999…\n",
      "$ JA       <dbl> 99999, 99999, 99999, 99999, 99999, 99999, 99999, 99999, 9999…\n",
      "$ AH       <dbl> 99999, 99999, 99999, 99999, 99999, 99999, 99999, 99999, 9999…\n",
      "$ AN       <dbl> 99999, 99999, 99999, 99999, 99999, 99999, 99999, 99999, 9999…\n",
      "$ JH       <dbl> 99999, 99999, 99999, 99999, 99999, 99999, 99999, 99999, 9999…\n",
      "$ JN       <dbl> 99999, 99999, 99999, 99999, 99999, 99999, 99999, 99999, 9999…\n"
     ]
    }
   ],
   "source": [
    "glimpse(icpsr_raw)"
   ]
  },
  {
   "cell_type": "markdown",
   "metadata": {},
   "source": [
    "- We want to form a table of the crime data of gender and age groups. We use regular expressions to select the columns that match the age-gender format we saw\n",
    "- We can print out our columns, then copy-pasted them into RegExr"
   ]
  },
  {
   "cell_type": "code",
   "execution_count": 4,
   "metadata": {},
   "outputs": [
    {
     "name": "stderr",
     "output_type": "stream",
     "text": [
      "ASR_ID\n",
      "CONTENTS\n",
      "STATE\n",
      "ORI\n",
      "GROUP\n",
      "DIV\n",
      "AGHEADER\n",
      "YEAR\n",
      "MSA\n",
      "COUNTY\n",
      "SEQNO\n",
      "SUB\n",
      "CORE\n",
      "COVBY\n",
      "POP\n",
      "AGENCY\n",
      "STNAME\n",
      "MONTH\n",
      "MOHEADER\n",
      "BREAK\n",
      "AREO\n",
      "ZERO\n",
      "DTLASTUP\n",
      "DTPRUP1\n",
      "DTPRUP2\n",
      "JUVDISP\n",
      "JDHANDDP\n",
      "JDREFJC\n",
      "JDREFWA\n",
      "JDREFOPA\n",
      "JDREFCC\n",
      "OFFENSE\n",
      "OCCUR\n",
      "M0_9\n",
      "M10_12\n",
      "M13_14\n",
      "M15\n",
      "M16\n",
      "M17\n",
      "M18\n",
      "M19\n",
      "M20\n",
      "M21\n",
      "M22\n",
      "M23\n",
      "M24\n",
      "M25_29\n",
      "M30_34\n",
      "M35_39\n",
      "M40_44\n",
      "M45_49\n",
      "M50_54\n",
      "M55_59\n",
      "M60_64\n",
      "M65\n",
      "F0_9\n",
      "F10_12\n",
      "F13_14\n",
      "F15\n",
      "F16\n",
      "F17\n",
      "F18\n",
      "F19\n",
      "F20\n",
      "F21\n",
      "F22\n",
      "F23\n",
      "F24\n",
      "F25_29\n",
      "F30_34\n",
      "F35_39\n",
      "F40_44\n",
      "F45_49\n",
      "F50_54\n",
      "F55_59\n",
      "F60_64\n",
      "F65\n",
      "AW\n",
      "AB\n",
      "AI\n",
      "AA\n",
      "JW\n",
      "JB\n",
      "JI\n",
      "JA\n",
      "AH\n",
      "AN\n",
      "JH\n",
      "JN\n"
     ]
    }
   ],
   "source": [
    "message(paste0(names(icpsr_raw), collapse=\"\\n\"))"
   ]
  },
  {
   "cell_type": "markdown",
   "metadata": {},
   "source": [
    "![](https://raw.githubusercontent.com/dereklhansen/stats306_lab/master/lab8/gender_age2.png)"
   ]
  },
  {
   "cell_type": "markdown",
   "metadata": {},
   "source": [
    "-  We then use the ```matches``` function within ```select```. ```matches``` will keep all columns that match our regular expression.\n",
    "-  Matches works with tidyr functions as well"
   ]
  },
  {
   "cell_type": "code",
   "execution_count": 31,
   "metadata": {},
   "outputs": [],
   "source": [
    "icpsr_gender_age <- icpsr_raw %>%\n",
    "  filter(CONTENTS == 3) %>%\n",
    "  select(originating_agency = ORI,\n",
    "         month = MONTH,\n",
    "         offense = OFFENSE,\n",
    "         matches(\"^(M|F)[0-9]+\")) %>%\n",
    "  gather(matches(\"^(M|F)[0-9]+\"), \n",
    "         key = \"gender_age\",\n",
    "         value = \"count\") %>%\n",
    "  mutate(count = ifelse(count == 99999, 0, count)) %>%\n",
    "  mutate(count = ifelse(count == 99998, NA_real_, count)) %>%\n",
    "  separate(gender_age, into = c(\"gender\", \"age\"), sep=1)"
   ]
  },
  {
   "cell_type": "code",
   "execution_count": 32,
   "metadata": {
    "scrolled": false
   },
   "outputs": [
    {
     "name": "stdout",
     "output_type": "stream",
     "text": [
      "# A tibble: 2,521,640 x 6\n",
      "   originating_agency month offense gender age   count\n",
      "   <chr>              <dbl> <chr>   <chr>  <chr> <dbl>\n",
      " 1 MI01001                1 26      M      0_9       0\n",
      " 2 MI01001                2 26      M      0_9       0\n",
      " 3 MI01001                3 18      M      0_9       0\n",
      " 4 MI01001                3 185     M      0_9       0\n",
      " 5 MI01001                3 18F     M      0_9       0\n",
      " 6 MI01001                4 18      M      0_9       0\n",
      " 7 MI01001                4 180     M      0_9       0\n",
      " 8 MI01001                4 18D     M      0_9       0\n",
      " 9 MI01001                5 18      M      0_9       0\n",
      "10 MI01001                5 185     M      0_9       0\n",
      "# … with 2,521,630 more rows\n"
     ]
    }
   ],
   "source": [
    "print(icpsr_gender_age)"
   ]
  },
  {
   "cell_type": "markdown",
   "metadata": {},
   "source": [
    "- In this simple case, we could just use the tidyr ```separate``` function with an index (1) \n",
    "- The ```extract``` function from ```tidyr``` is more powerful, as we can have it search for particular patterns"
   ]
  },
  {
   "cell_type": "code",
   "execution_count": 7,
   "metadata": {},
   "outputs": [
    {
     "name": "stdout",
     "output_type": "stream",
     "text": [
      "# A tibble: 2,521,640 x 6\n",
      "   originating_agency month offense gender age   count\n",
      "   <chr>              <dbl> <chr>   <chr>  <chr> <dbl>\n",
      " 1 MI01001                1 26      M      0         0\n",
      " 2 MI01001                2 26      M      0         0\n",
      " 3 MI01001                3 18      M      0         0\n",
      " 4 MI01001                3 185     M      0         0\n",
      " 5 MI01001                3 18F     M      0         0\n",
      " 6 MI01001                4 18      M      0         0\n",
      " 7 MI01001                4 180     M      0         0\n",
      " 8 MI01001                4 18D     M      0         0\n",
      " 9 MI01001                5 18      M      0         0\n",
      "10 MI01001                5 185     M      0         0\n",
      "# … with 2,521,630 more rows\n"
     ]
    }
   ],
   "source": [
    "icpsr_gender_age <- icpsr_raw %>%\n",
    "  filter(CONTENTS == 3) %>%\n",
    "  select(originating_agency = ORI,\n",
    "         month = MONTH,\n",
    "         offense = OFFENSE,\n",
    "         matches(\"^(M|F)[0-9]+\")) %>%\n",
    "  gather(matches(\"^(M|F)[0-9]+\"), \n",
    "         key = \"gender_age\",\n",
    "         value = \"count\") %>%\n",
    "  mutate(count = ifelse(count == 99999, 0, count)) %>%\n",
    "  mutate(count = ifelse(count == 99998, NA_real_, count)) %>%\n",
    "  extract(gender_age, into = c(\"gender\", \"age\"), regex=(\"(M|F)([0-9]+)\"))\n",
    "print(icpsr_gender_age )"
   ]
  },
  {
   "cell_type": "markdown",
   "metadata": {},
   "source": [
    "-  What happened? Try looking back at our website code\n",
    "-  Our regular expression was good enough to find the right columns, but \"[0-9]+\" doesn't match to any of the names with underscores (such as \"M0_9\")\n",
    "-  This is why regular expressions are tricky to master!"
   ]
  },
  {
   "cell_type": "code",
   "execution_count": 35,
   "metadata": {},
   "outputs": [
    {
     "name": "stdout",
     "output_type": "stream",
     "text": [
      "# A tibble: 2,521,640 x 6\n",
      "   originating_agency month offense gender age   count\n",
      "   <chr>              <dbl> <chr>   <chr>  <chr> <dbl>\n",
      " 1 MI01001                1 26      M      0_9       0\n",
      " 2 MI01001                2 26      M      0_9       0\n",
      " 3 MI01001                3 18      M      0_9       0\n",
      " 4 MI01001                3 185     M      0_9       0\n",
      " 5 MI01001                3 18F     M      0_9       0\n",
      " 6 MI01001                4 18      M      0_9       0\n",
      " 7 MI01001                4 180     M      0_9       0\n",
      " 8 MI01001                4 18D     M      0_9       0\n",
      " 9 MI01001                5 18      M      0_9       0\n",
      "10 MI01001                5 185     M      0_9       0\n",
      "# … with 2,521,630 more rows\n"
     ]
    }
   ],
   "source": [
    "icpsr_gender_age <- icpsr_raw %>%\n",
    "  filter(CONTENTS == 3) %>%\n",
    "  select(originating_agency = ORI,\n",
    "         month = MONTH,\n",
    "         offense = OFFENSE,\n",
    "         matches(\"^(M|F)[0-9]+\")) %>%\n",
    "  gather(matches(\"^(M|F)[0-9]+\"), \n",
    "         key = \"gender_age\",\n",
    "         value = \"count\") %>%\n",
    "  mutate(count = ifelse(count == 99999, 0, count)) %>%\n",
    "  mutate(count = ifelse(count == 99998, NA_real_, count)) %>%\n",
    "  extract(gender_age, into = c(\"gender\", \"age\"), regex=(\"(M|F)([0-9]+$|[0-9]+_[0-9]+)\"))\n",
    "print(icpsr_gender_age)"
   ]
  },
  {
   "cell_type": "markdown",
   "metadata": {},
   "source": [
    "**Exercise:**\n",
    "\n",
    "Instead of age being a character, split the range into age_min and age_max. If there is just one age, set age_min=age_max"
   ]
  },
  {
   "cell_type": "markdown",
   "metadata": {},
   "source": [
    "**Solution:**\n",
    "\n",
    "You could just do ```separate``` on the \"age\" column. Or you can do it directly, all with regular expressions!\n",
    "\n",
    "We need to make sure that we handle all cases properly. We define three groups to define gender_age:\n",
    "-  ```\"(M|F)\"``` matches either male or female\n",
    "-  ```\"([0-9]+)\"``` matches \"9\", \"20\", etc.\n",
    "-  ```\"((_[0-9]+|)\"``` matches ```\"_10\"```, ```\"_100\"```, **or nothing**. If we don't specify this, the rows where the string does not match this pattern will return \"NA\" for all values."
   ]
  },
  {
   "cell_type": "code",
   "execution_count": 41,
   "metadata": {},
   "outputs": [
    {
     "name": "stdout",
     "output_type": "stream",
     "text": [
      "# A tibble: 2,521,640 x 7\n",
      "   originating_agency month offense gender count age_min age_max\n",
      "   <chr>              <dbl> <chr>   <chr>  <dbl>   <int>   <int>\n",
      " 1 MI01001                1 26      M          0       0       9\n",
      " 2 MI01001                2 26      M          0       0       9\n",
      " 3 MI01001                3 18      M          0       0       9\n",
      " 4 MI01001                3 185     M          0       0       9\n",
      " 5 MI01001                3 18F     M          0       0       9\n",
      " 6 MI01001                4 18      M          0       0       9\n",
      " 7 MI01001                4 180     M          0       0       9\n",
      " 8 MI01001                4 18D     M          0       0       9\n",
      " 9 MI01001                5 18      M          0       0       9\n",
      "10 MI01001                5 185     M          0       0       9\n",
      "# … with 2,521,630 more rows\n"
     ]
    }
   ],
   "source": [
    "icpsr_gender_age2 <- icpsr_raw %>%\n",
    "  filter(CONTENTS == 3) %>%\n",
    "  select(originating_agency = ORI,\n",
    "         month = MONTH,\n",
    "         offense = OFFENSE,\n",
    "         matches(\"^(M|F)[0-9]+\")) %>%\n",
    "  gather(matches(\"^(M|F)[0-9]+\"), \n",
    "         key = \"gender_age\",\n",
    "         value = \"count\") %>%\n",
    "  mutate(count = ifelse(count == 99999, 0, count)) %>%\n",
    "  mutate(count = ifelse(count == 99998, NA_real_, count)) %>%\n",
    "  extract(gender_age, into = c(\"gender\", \"age_min_str\", \"age_max_str\"), regex=(\"(M|F)([0-9]+)(_[0-9]+|)\")) %>%\n",
    "  mutate(age_min = as.integer(age_min_str), age_max=as.integer(str_sub(age_max_str, 2))) %>%\n",
    "  mutate(age_max = ifelse(is.na(age_max), age_min, age_max))\n",
    "print(select(icpsr_gender_age2, -age_min_str, -age_max_str))\n"
   ]
  },
  {
   "cell_type": "code",
   "execution_count": 42,
   "metadata": {},
   "outputs": [
    {
     "name": "stdout",
     "output_type": "stream",
     "text": [
      "# A tibble: 114,620 x 9\n",
      "   originating_age… month offense gender age_min_str age_max_str count age_min\n",
      "   <chr>            <dbl> <chr>   <chr>  <chr>       <chr>       <dbl>   <int>\n",
      " 1 MI01001              1 26      M      20          \"\"              0      20\n",
      " 2 MI01001              2 26      M      20          \"\"              0      20\n",
      " 3 MI01001              3 18      M      20          \"\"              0      20\n",
      " 4 MI01001              3 185     M      20          \"\"              0      20\n",
      " 5 MI01001              3 18F     M      20          \"\"              0      20\n",
      " 6 MI01001              4 18      M      20          \"\"              0      20\n",
      " 7 MI01001              4 180     M      20          \"\"              0      20\n",
      " 8 MI01001              4 18D     M      20          \"\"              0      20\n",
      " 9 MI01001              5 18      M      20          \"\"              0      20\n",
      "10 MI01001              5 185     M      20          \"\"              0      20\n",
      "# … with 114,610 more rows, and 1 more variable: age_max <int>\n"
     ]
    }
   ],
   "source": [
    "print(filter(icpsr_gender_age2, age_min==20))"
   ]
  },
  {
   "cell_type": "markdown",
   "metadata": {},
   "source": [
    "# Factors"
   ]
  },
  {
   "cell_type": "code",
   "execution_count": 47,
   "metadata": {
    "scrolled": false
   },
   "outputs": [
    {
     "name": "stdout",
     "output_type": "stream",
     "text": [
      "# A tibble: 2,521,640 x 6\n",
      "   originating_agency month offense gender age   count\n",
      "   <fct>              <dbl> <fct>   <fct>  <fct> <dbl>\n",
      " 1 MI01001                1 26      M      0_9       0\n",
      " 2 MI01001                2 26      M      0_9       0\n",
      " 3 MI01001                3 18      M      0_9       0\n",
      " 4 MI01001                3 185     M      0_9       0\n",
      " 5 MI01001                3 18F     M      0_9       0\n",
      " 6 MI01001                4 18      M      0_9       0\n",
      " 7 MI01001                4 180     M      0_9       0\n",
      " 8 MI01001                4 18D     M      0_9       0\n",
      " 9 MI01001                5 18      M      0_9       0\n",
      "10 MI01001                5 185     M      0_9       0\n",
      "# … with 2,521,630 more rows\n"
     ]
    }
   ],
   "source": [
    "icpsr_gender_age_fctr <- icpsr_gender_age %>%\n",
    "    mutate(originating_agency=factor(originating_agency), offense=factor(offense), gender=factor(gender), age=factor(age))\n",
    "print(icpsr_gender_age_fctr)"
   ]
  },
  {
   "cell_type": "markdown",
   "metadata": {},
   "source": [
    "Suppose we want to make the age groupings more clear (i.e. say \"0 to 9\" instead of \"0_9\"). the ```fct_recode``` is useful for making quick changes"
   ]
  },
  {
   "cell_type": "code",
   "execution_count": 12,
   "metadata": {
    "scrolled": true
   },
   "outputs": [
    {
     "name": "stdout",
     "output_type": "stream",
     "text": [
      "# A tibble: 2,521,640 x 6\n",
      "   originating_agency month offense gender age    count\n",
      "   <fct>              <dbl> <fct>   <fct>  <fct>  <dbl>\n",
      " 1 MI01001                1 26      M      0 to 9     0\n",
      " 2 MI01001                2 26      M      0 to 9     0\n",
      " 3 MI01001                3 18      M      0 to 9     0\n",
      " 4 MI01001                3 185     M      0 to 9     0\n",
      " 5 MI01001                3 18F     M      0 to 9     0\n",
      " 6 MI01001                4 18      M      0 to 9     0\n",
      " 7 MI01001                4 180     M      0 to 9     0\n",
      " 8 MI01001                4 18D     M      0 to 9     0\n",
      " 9 MI01001                5 18      M      0 to 9     0\n",
      "10 MI01001                5 185     M      0 to 9     0\n",
      "# … with 2,521,630 more rows\n"
     ]
    }
   ],
   "source": [
    "mutate(icpsr_gender_age_fctr, age=fct_recode(age, \"0 to 9\"=\"0_9\", \"10 to 12\"=\"10_12\", \"13 to 14\"=\"13_14\")) %>%\n",
    "    print()"
   ]
  },
  {
   "cell_type": "markdown",
   "metadata": {},
   "source": [
    "However, in our case, it would be tedious to make this same change for every group. Instead, we can manipulate the ```levels``` directly, which lets us use regular expressions."
   ]
  },
  {
   "cell_type": "code",
   "execution_count": 49,
   "metadata": {},
   "outputs": [
    {
     "data": {
      "text/html": [
       "<ol class=list-inline>\n",
       "\t<li>'0_9'</li>\n",
       "\t<li>'10_12'</li>\n",
       "\t<li>'13_14'</li>\n",
       "\t<li>'15'</li>\n",
       "\t<li>'16'</li>\n",
       "\t<li>'17'</li>\n",
       "\t<li>'18'</li>\n",
       "\t<li>'19'</li>\n",
       "\t<li>'20'</li>\n",
       "\t<li>'21'</li>\n",
       "\t<li>'22'</li>\n",
       "\t<li>'23'</li>\n",
       "\t<li>'24'</li>\n",
       "\t<li>'25_29'</li>\n",
       "\t<li>'30_34'</li>\n",
       "\t<li>'35_39'</li>\n",
       "\t<li>'40_44'</li>\n",
       "\t<li>'45_49'</li>\n",
       "\t<li>'50_54'</li>\n",
       "\t<li>'55_59'</li>\n",
       "\t<li>'60_64'</li>\n",
       "\t<li>'65'</li>\n",
       "</ol>\n"
      ],
      "text/latex": [
       "\\begin{enumerate*}\n",
       "\\item '0\\_9'\n",
       "\\item '10\\_12'\n",
       "\\item '13\\_14'\n",
       "\\item '15'\n",
       "\\item '16'\n",
       "\\item '17'\n",
       "\\item '18'\n",
       "\\item '19'\n",
       "\\item '20'\n",
       "\\item '21'\n",
       "\\item '22'\n",
       "\\item '23'\n",
       "\\item '24'\n",
       "\\item '25\\_29'\n",
       "\\item '30\\_34'\n",
       "\\item '35\\_39'\n",
       "\\item '40\\_44'\n",
       "\\item '45\\_49'\n",
       "\\item '50\\_54'\n",
       "\\item '55\\_59'\n",
       "\\item '60\\_64'\n",
       "\\item '65'\n",
       "\\end{enumerate*}\n"
      ],
      "text/markdown": [
       "1. '0_9'\n",
       "2. '10_12'\n",
       "3. '13_14'\n",
       "4. '15'\n",
       "5. '16'\n",
       "6. '17'\n",
       "7. '18'\n",
       "8. '19'\n",
       "9. '20'\n",
       "10. '21'\n",
       "11. '22'\n",
       "12. '23'\n",
       "13. '24'\n",
       "14. '25_29'\n",
       "15. '30_34'\n",
       "16. '35_39'\n",
       "17. '40_44'\n",
       "18. '45_49'\n",
       "19. '50_54'\n",
       "20. '55_59'\n",
       "21. '60_64'\n",
       "22. '65'\n",
       "\n",
       "\n"
      ],
      "text/plain": [
       " [1] \"0_9\"   \"10_12\" \"13_14\" \"15\"    \"16\"    \"17\"    \"18\"    \"19\"    \"20\"   \n",
       "[10] \"21\"    \"22\"    \"23\"    \"24\"    \"25_29\" \"30_34\" \"35_39\" \"40_44\" \"45_49\"\n",
       "[19] \"50_54\" \"55_59\" \"60_64\" \"65\"   "
      ]
     },
     "metadata": {},
     "output_type": "display_data"
    }
   ],
   "source": [
    "levels(icpsr_gender_age_fctr$age)"
   ]
  },
  {
   "cell_type": "code",
   "execution_count": 50,
   "metadata": {},
   "outputs": [],
   "source": [
    "levels(icpsr_gender_age_fctr$age) <- str_replace(levels(icpsr_gender_age_fctr$age), \"_\", \" to \")"
   ]
  },
  {
   "cell_type": "code",
   "execution_count": 52,
   "metadata": {
    "scrolled": true
   },
   "outputs": [
    {
     "name": "stdout",
     "output_type": "stream",
     "text": [
      " [1] \"0 to 9\"   \"10 to 12\" \"13 to 14\" \"15\"       \"16\"       \"17\"      \n",
      " [7] \"18\"       \"19\"       \"20\"       \"21\"       \"22\"       \"23\"      \n",
      "[13] \"24\"       \"25 to 29\" \"30 to 34\" \"35 to 39\" \"40 to 44\" \"45 to 49\"\n",
      "[19] \"50 to 54\" \"55 to 59\" \"60 to 64\" \"65\"      \n"
     ]
    }
   ],
   "source": [
    "# print(icpsr_gender_age_fctr)\n",
    "print(levels(icpsr_gender_age_fctr$age))"
   ]
  },
  {
   "cell_type": "markdown",
   "metadata": {},
   "source": [
    "For our last example, we revisit the ```gss_cat``` dataset. We want to extract different features of ```partyid```"
   ]
  },
  {
   "cell_type": "code",
   "execution_count": 53,
   "metadata": {
    "scrolled": true
   },
   "outputs": [
    {
     "name": "stdout",
     "output_type": "stream",
     "text": [
      "# A tibble: 21,483 x 9\n",
      "    year marital     age race  rincome    partyid     relig     denom    tvhours\n",
      "   <int> <fct>     <int> <fct> <fct>      <fct>       <fct>     <fct>      <int>\n",
      " 1  2000 Never ma…    26 White $8000 to … Ind,near r… Protesta… Souther…      12\n",
      " 2  2000 Divorced     48 White $8000 to … Not str re… Protesta… Baptist…      NA\n",
      " 3  2000 Widowed      67 White Not appli… Independent Protesta… No deno…       2\n",
      " 4  2000 Never ma…    39 White Not appli… Ind,near r… Orthodox… Not app…       4\n",
      " 5  2000 Divorced     25 White Not appli… Not str de… None      Not app…       1\n",
      " 6  2000 Married      25 White $20000 - … Strong dem… Protesta… Souther…      NA\n",
      " 7  2000 Never ma…    36 White $25000 or… Not str re… Christian Not app…       3\n",
      " 8  2000 Divorced     44 White $7000 to … Ind,near d… Protesta… Luthera…      NA\n",
      " 9  2000 Married      44 White $25000 or… Not str de… Protesta… Other          0\n",
      "10  2000 Married      47 White $25000 or… Strong rep… Protesta… Souther…       3\n",
      "# … with 21,473 more rows\n"
     ]
    }
   ],
   "source": [
    "print(gss_cat)"
   ]
  },
  {
   "cell_type": "code",
   "execution_count": 54,
   "metadata": {
    "scrolled": true
   },
   "outputs": [
    {
     "name": "stdout",
     "output_type": "stream",
     "text": [
      " [1] \"No answer\"          \"Don't know\"         \"Other party\"       \n",
      " [4] \"Strong republican\"  \"Not str republican\" \"Ind,near rep\"      \n",
      " [7] \"Independent\"        \"Ind,near dem\"       \"Not str democrat\"  \n",
      "[10] \"Strong democrat\"   \n"
     ]
    }
   ],
   "source": [
    "print(levels(gss_cat$partyid))"
   ]
  },
  {
   "cell_type": "markdown",
   "metadata": {},
   "source": [
    "Regular expressions don't need to be complicated to be useful! Even simple ones can save you a lot of time"
   ]
  },
  {
   "cell_type": "code",
   "execution_count": 55,
   "metadata": {},
   "outputs": [],
   "source": [
    "gss_splitup <- mutate(gss_cat, \n",
    "       party    = str_extract(partyid, \"(Ind|rep|dem|Other party|No answer|Don't know)\"),\n",
    "       leaning  = str_extract(partyid, \"(rep|dem)\"),\n",
    "       strength_of_leaning = str_extract(partyid, \"(Strong|Not str|Ind,near)\")\n",
    "      ) "
   ]
  },
  {
   "cell_type": "code",
   "execution_count": 56,
   "metadata": {
    "scrolled": true
   },
   "outputs": [
    {
     "name": "stdout",
     "output_type": "stream",
     "text": [
      "# A tibble: 21,483 x 4\n",
      "   partyid            party leaning strength_of_leaning\n",
      "   <fct>              <chr> <chr>   <chr>              \n",
      " 1 Ind,near rep       Ind   rep     Ind,near           \n",
      " 2 Not str republican rep   rep     Not str            \n",
      " 3 Independent        Ind   <NA>    <NA>               \n",
      " 4 Ind,near rep       Ind   rep     Ind,near           \n",
      " 5 Not str democrat   dem   dem     Not str            \n",
      " 6 Strong democrat    dem   dem     Strong             \n",
      " 7 Not str republican rep   rep     Not str            \n",
      " 8 Ind,near dem       Ind   dem     Ind,near           \n",
      " 9 Not str democrat   dem   dem     Not str            \n",
      "10 Strong republican  rep   rep     Strong             \n",
      "# … with 21,473 more rows\n"
     ]
    }
   ],
   "source": [
    "print(select(gss_splitup, partyid, party, leaning, strength_of_leaning))"
   ]
  },
  {
   "cell_type": "code",
   "execution_count": 57,
   "metadata": {},
   "outputs": [
    {
     "data": {
      "image/png": "[encoded data removed]",
      "text/plain": [
       "plot without title"
      ]
     },
     "metadata": {},
     "output_type": "display_data"
    }
   ],
   "source": [
    "ggplot(gss_splitup) + geom_bar(aes(x=party, fill=paste0(leaning))) +\n",
    "    scale_fill_manual(values = c(dem=\"blue\", rep=\"red\", `NA`=\"grey\"))"
   ]
  },
  {
   "cell_type": "code",
   "execution_count": 58,
   "metadata": {},
   "outputs": [
    {
     "data": {
      "image/png": "[encoded data removed]",
      "text/plain": [
       "plot without title"
      ]
     },
     "metadata": {},
     "output_type": "display_data"
    }
   ],
   "source": [
    "ggplot(filter(gss_splitup, !is.na(leaning))) + geom_bar(aes(x=leaning, fill=strength_of_leaning))"
   ]
  },
  {
   "cell_type": "code",
   "execution_count": 59,
   "metadata": {},
   "outputs": [
    {
     "data": {
      "image/png": "[encoded data removed]",
      "text/plain": [
       "plot without title"
      ]
     },
     "metadata": {},
     "output_type": "display_data"
    }
   ],
   "source": [
    "ggplot(filter(gss_splitup, !is.na(leaning))) + geom_bar(aes(x=leaning, fill=strength_of_leaning), position=\"fill\")"
   ]
  }
 ],
 "metadata": {
  "kernelspec": {
   "display_name": "R",
   "language": "R",
   "name": "ir"
  },
  "language_info": {
   "codemirror_mode": "r",
   "file_extension": ".r",
   "mimetype": "text/x-r-source",
   "name": "R",
   "pygments_lexer": "r",
   "version": "3.6.1"
  }
 },
 "nbformat": 4,
 "nbformat_minor": 2
}

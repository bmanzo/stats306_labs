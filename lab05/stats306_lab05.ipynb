{
 "cells": [
  {
   "cell_type": "markdown",
   "metadata": {},
   "source": [
    "# Lab 5: More about EDA & Tidy Data\n"
   ]
  },
  {
   "cell_type": "markdown",
   "metadata": {},
   "source": [
    "Brian Manzo \n",
    "\n",
    "Wednesday 8:30-9:50am, 2260 USB"
   ]
  },
  {
   "cell_type": "markdown",
   "metadata": {},
   "source": [
    "## Reminders\n",
    "1. Midterm starts tomorrow\n",
    "2. Homework due tomorrow"
   ]
  },
  {
   "cell_type": "code",
   "execution_count": 2,
   "metadata": {},
   "outputs": [
    {
     "name": "stderr",
     "output_type": "stream",
     "text": [
      "Registered S3 methods overwritten by 'ggplot2':\n",
      "  method         from \n",
      "  [.quosures     rlang\n",
      "  c.quosures     rlang\n",
      "  print.quosures rlang\n",
      "Registered S3 method overwritten by 'rvest':\n",
      "  method            from\n",
      "  read_xml.response xml2\n",
      "── Attaching packages ─────────────────────────────────────── tidyverse 1.2.1 ──\n",
      "✔ ggplot2 3.1.1     ✔ purrr   0.3.2\n",
      "✔ tibble  3.0.3     ✔ dplyr   1.0.2\n",
      "✔ tidyr   1.1.2     ✔ stringr 1.4.0\n",
      "✔ readr   1.3.1     ✔ forcats 0.4.0\n",
      "── Conflicts ────────────────────────────────────────── tidyverse_conflicts() ──\n",
      "✖ dplyr::filter() masks stats::filter()\n",
      "✖ dplyr::lag()    masks stats::lag()\n"
     ]
    }
   ],
   "source": [
    "library(tidyverse)"
   ]
  },
  {
   "cell_type": "markdown",
   "metadata": {},
   "source": [
    "## `gather` and `spread`"
   ]
  },
  {
   "cell_type": "markdown",
   "metadata": {},
   "source": [
    "Remember that `gather` transforms datasets from \"wide\" to \"long,\" collecting different column names into a variable. `spread` does the opposite, turning \"long\" datasets into \"wide\" ones by spreading out a variable's values into the column names."
   ]
  },
  {
   "cell_type": "code",
   "execution_count": 3,
   "metadata": {},
   "outputs": [
    {
     "data": {
      "text/html": [
       "<table>\n",
       "<thead><tr><th scope=col>name</th><th scope=col>2015</th><th scope=col>2016</th><th scope=col>2017</th></tr></thead>\n",
       "<tbody>\n",
       "\t<tr><td>Roger</td><td>83   </td><td>89   </td><td>93   </td></tr>\n",
       "\t<tr><td>Jon  </td><td>92   </td><td>90   </td><td>93   </td></tr>\n",
       "</tbody>\n",
       "</table>\n"
      ],
      "text/latex": [
       "\\begin{tabular}{r|llll}\n",
       " name & 2015 & 2016 & 2017\\\\\n",
       "\\hline\n",
       "\t Roger & 83    & 89    & 93   \\\\\n",
       "\t Jon   & 92    & 90    & 93   \\\\\n",
       "\\end{tabular}\n"
      ],
      "text/markdown": [
       "\n",
       "| name | 2015 | 2016 | 2017 |\n",
       "|---|---|---|---|\n",
       "| Roger | 83    | 89    | 93    |\n",
       "| Jon   | 92    | 90    | 93    |\n",
       "\n"
      ],
      "text/plain": [
       "  name  2015 2016 2017\n",
       "1 Roger 83   89   93  \n",
       "2 Jon   92   90   93  "
      ]
     },
     "metadata": {},
     "output_type": "display_data"
    }
   ],
   "source": [
    "grades_wide = tribble(\n",
    "  ~name,  ~`2015`, ~`2016`, ~`2017`,\n",
    "'Roger',       83,      89,      93,\n",
    "  'Jon',       92,      90,      93)\n",
    "grades_wide"
   ]
  },
  {
   "cell_type": "code",
   "execution_count": 12,
   "metadata": {},
   "outputs": [
    {
     "data": {
      "text/html": [
       "<table>\n",
       "<thead><tr><th scope=col>2015</th><th scope=col>2016</th><th scope=col>2017</th></tr></thead>\n",
       "<tbody>\n",
       "\t<tr><td>87.5</td><td>89.5</td><td>93  </td></tr>\n",
       "</tbody>\n",
       "</table>\n"
      ],
      "text/latex": [
       "\\begin{tabular}{r|lll}\n",
       " 2015 & 2016 & 2017\\\\\n",
       "\\hline\n",
       "\t 87.5 & 89.5 & 93  \\\\\n",
       "\\end{tabular}\n"
      ],
      "text/markdown": [
       "\n",
       "| 2015 | 2016 | 2017 |\n",
       "|---|---|---|\n",
       "| 87.5 | 89.5 | 93   |\n",
       "\n"
      ],
      "text/plain": [
       "  2015 2016 2017\n",
       "1 87.5 89.5 93  "
      ]
     },
     "metadata": {},
     "output_type": "display_data"
    }
   ],
   "source": [
    "grades_wide %>% select(-name) %>% summarise_all(mean)"
   ]
  },
  {
   "cell_type": "code",
   "execution_count": 4,
   "metadata": {},
   "outputs": [
    {
     "data": {
      "text/html": [
       "<table>\n",
       "<thead><tr><th scope=col>name</th><th scope=col>year</th><th scope=col>grade</th></tr></thead>\n",
       "<tbody>\n",
       "\t<tr><td>Roger</td><td>2015 </td><td>83   </td></tr>\n",
       "\t<tr><td>Jon  </td><td>2015 </td><td>92   </td></tr>\n",
       "\t<tr><td>Roger</td><td>2016 </td><td>89   </td></tr>\n",
       "\t<tr><td>Jon  </td><td>2016 </td><td>90   </td></tr>\n",
       "\t<tr><td>Roger</td><td>2017 </td><td>93   </td></tr>\n",
       "\t<tr><td>Jon  </td><td>2017 </td><td>93   </td></tr>\n",
       "</tbody>\n",
       "</table>\n"
      ],
      "text/latex": [
       "\\begin{tabular}{r|lll}\n",
       " name & year & grade\\\\\n",
       "\\hline\n",
       "\t Roger & 2015  & 83   \\\\\n",
       "\t Jon   & 2015  & 92   \\\\\n",
       "\t Roger & 2016  & 89   \\\\\n",
       "\t Jon   & 2016  & 90   \\\\\n",
       "\t Roger & 2017  & 93   \\\\\n",
       "\t Jon   & 2017  & 93   \\\\\n",
       "\\end{tabular}\n"
      ],
      "text/markdown": [
       "\n",
       "| name | year | grade |\n",
       "|---|---|---|\n",
       "| Roger | 2015  | 83    |\n",
       "| Jon   | 2015  | 92    |\n",
       "| Roger | 2016  | 89    |\n",
       "| Jon   | 2016  | 90    |\n",
       "| Roger | 2017  | 93    |\n",
       "| Jon   | 2017  | 93    |\n",
       "\n"
      ],
      "text/plain": [
       "  name  year grade\n",
       "1 Roger 2015 83   \n",
       "2 Jon   2015 92   \n",
       "3 Roger 2016 89   \n",
       "4 Jon   2016 90   \n",
       "5 Roger 2017 93   \n",
       "6 Jon   2017 93   "
      ]
     },
     "metadata": {},
     "output_type": "display_data"
    }
   ],
   "source": [
    "grades_long = grades_wide %>% gather(key=year, value=grade, `2015`:`2017`)\n",
    "grades_long"
   ]
  },
  {
   "cell_type": "code",
   "execution_count": 5,
   "metadata": {},
   "outputs": [
    {
     "data": {
      "text/html": [
       "<table>\n",
       "<thead><tr><th scope=col>name</th><th scope=col>2015</th><th scope=col>2016</th><th scope=col>2017</th></tr></thead>\n",
       "<tbody>\n",
       "\t<tr><td>Jon  </td><td>92   </td><td>90   </td><td>93   </td></tr>\n",
       "\t<tr><td>Roger</td><td>83   </td><td>89   </td><td>93   </td></tr>\n",
       "</tbody>\n",
       "</table>\n"
      ],
      "text/latex": [
       "\\begin{tabular}{r|llll}\n",
       " name & 2015 & 2016 & 2017\\\\\n",
       "\\hline\n",
       "\t Jon   & 92    & 90    & 93   \\\\\n",
       "\t Roger & 83    & 89    & 93   \\\\\n",
       "\\end{tabular}\n"
      ],
      "text/markdown": [
       "\n",
       "| name | 2015 | 2016 | 2017 |\n",
       "|---|---|---|---|\n",
       "| Jon   | 92    | 90    | 93    |\n",
       "| Roger | 83    | 89    | 93    |\n",
       "\n"
      ],
      "text/plain": [
       "  name  2015 2016 2017\n",
       "1 Jon   92   90   93  \n",
       "2 Roger 83   89   93  "
      ]
     },
     "metadata": {},
     "output_type": "display_data"
    }
   ],
   "source": [
    "grades_long %>% spread(key=year, value=grade)"
   ]
  },
  {
   "cell_type": "markdown",
   "metadata": {
    "collapsed": true
   },
   "source": [
    "## Midterm Review"
   ]
  },
  {
   "cell_type": "markdown",
   "metadata": {},
   "source": [
    "### Topics we've covered so far:\n",
    "- Basics of R programming\n",
    "- `ggplot`\n",
    "- `dplyr` (data manipulation)\n",
    "- visualizing distributions\n",
    "- tidy data (`gather` and `spread`)"
   ]
  },
  {
   "cell_type": "markdown",
   "metadata": {},
   "source": [
    "### Tips: \n",
    "- Start early \n",
    "- Make sure you have any R/Jupyter/Colab issues straightened out ahead of time\n",
    "- If you are stuck, break down the problem into smaller pieces\n",
    "- If your code isn't working, check the output at intermediate steps to see where things may be going wrong\n",
    "- Review your old homeworks and have the solutions handy"
   ]
  },
  {
   "cell_type": "markdown",
   "metadata": {},
   "source": [
    "## MLB Data\n",
    "\n",
    "This dataset contains information for player-seasons in the American League from 2015 to 2018. For those unfamiliar with baseball:\n",
    "* `PA`: Plate Appearances, the number of times a player came up to bat.\n",
    "* `HR`: number of home runs.\n",
    "* `BBrate`: The number of walks (BBs) as a percentage of plate appearances.\n",
    "* `BB`: The number of walks.\n",
    "* `K`: The number of strikeouts.\n",
    "* `AVG`: A batters batting average.\n",
    "* `FB`: The number of fly balls a batter hit.\n",
    "\n",
    "Note: Also recall the functions `unite`, `separate`, and `complete`."
   ]
  },
  {
   "cell_type": "code",
   "execution_count": 13,
   "metadata": {},
   "outputs": [
    {
     "name": "stderr",
     "output_type": "stream",
     "text": [
      "Parsed with column specification:\n",
      "cols(\n",
      "  year = col_double(),\n",
      "  name = col_character(),\n",
      "  team = col_character(),\n",
      "  division = col_character(),\n",
      "  PA = col_double(),\n",
      "  HR = col_double(),\n",
      "  BBrate = col_character(),\n",
      "  BB_K = col_character(),\n",
      "  AVG = col_double(),\n",
      "  FB = col_double(),\n",
      "  playerid = col_double()\n",
      ")\n"
     ]
    },
    {
     "data": {
      "text/html": [
       "<table>\n",
       "<thead><tr><th scope=col>year</th><th scope=col>name</th><th scope=col>team</th><th scope=col>division</th><th scope=col>PA</th><th scope=col>HR</th><th scope=col>BBrate</th><th scope=col>BB_K</th><th scope=col>AVG</th><th scope=col>FB</th><th scope=col>playerid</th></tr></thead>\n",
       "<tbody>\n",
       "\t<tr><td>2016           </td><td>Abraham Almonte</td><td>Indians        </td><td>Central        </td><td>194            </td><td>1              </td><td>4.1 %          </td><td>8/42           </td><td>0.264          </td><td>43             </td><td> 5486          </td></tr>\n",
       "\t<tr><td>2017           </td><td>Abraham Almonte</td><td>Indians        </td><td>Central        </td><td>195            </td><td>3              </td><td>10.3 %         </td><td>20/46          </td><td>0.233          </td><td>34             </td><td> 5486          </td></tr>\n",
       "\t<tr><td>2015           </td><td>Adam Moore     </td><td>Indians        </td><td>Central        </td><td>  4            </td><td>0              </td><td>0.0 %          </td><td>0/2            </td><td>0.250          </td><td> 1             </td><td> 9362          </td></tr>\n",
       "\t<tr><td>2016           </td><td>Adam Moore     </td><td>Indians        </td><td>Central        </td><td>  5            </td><td>0              </td><td>0.0 %          </td><td>0/4            </td><td>0.000          </td><td> 1             </td><td> 9362          </td></tr>\n",
       "\t<tr><td>2018           </td><td>Adam Plutko    </td><td>Indians        </td><td>Central        </td><td>  2            </td><td>0              </td><td>0.0 %          </td><td>0/0            </td><td>0.000          </td><td> 0             </td><td>15846          </td></tr>\n",
       "\t<tr><td>2018           </td><td>Adam Rosales   </td><td>Indians        </td><td>Central        </td><td> 21            </td><td>1              </td><td>4.8 %          </td><td>1/5            </td><td>0.211          </td><td> 7             </td><td> 9682          </td></tr>\n",
       "</tbody>\n",
       "</table>\n"
      ],
      "text/latex": [
       "\\begin{tabular}{r|lllllllllll}\n",
       " year & name & team & division & PA & HR & BBrate & BB\\_K & AVG & FB & playerid\\\\\n",
       "\\hline\n",
       "\t 2016            & Abraham Almonte & Indians         & Central         & 194             & 1               & 4.1 \\%         & 8/42            & 0.264           & 43              &  5486          \\\\\n",
       "\t 2017            & Abraham Almonte & Indians         & Central         & 195             & 3               & 10.3 \\%        & 20/46           & 0.233           & 34              &  5486          \\\\\n",
       "\t 2015            & Adam Moore      & Indians         & Central         &   4             & 0               & 0.0 \\%         & 0/2             & 0.250           &  1              &  9362          \\\\\n",
       "\t 2016            & Adam Moore      & Indians         & Central         &   5             & 0               & 0.0 \\%         & 0/4             & 0.000           &  1              &  9362          \\\\\n",
       "\t 2018            & Adam Plutko     & Indians         & Central         &   2             & 0               & 0.0 \\%         & 0/0             & 0.000           &  0              & 15846          \\\\\n",
       "\t 2018            & Adam Rosales    & Indians         & Central         &  21             & 1               & 4.8 \\%         & 1/5             & 0.211           &  7              &  9682          \\\\\n",
       "\\end{tabular}\n"
      ],
      "text/markdown": [
       "\n",
       "| year | name | team | division | PA | HR | BBrate | BB_K | AVG | FB | playerid |\n",
       "|---|---|---|---|---|---|---|---|---|---|---|\n",
       "| 2016            | Abraham Almonte | Indians         | Central         | 194             | 1               | 4.1 %           | 8/42            | 0.264           | 43              |  5486           |\n",
       "| 2017            | Abraham Almonte | Indians         | Central         | 195             | 3               | 10.3 %          | 20/46           | 0.233           | 34              |  5486           |\n",
       "| 2015            | Adam Moore      | Indians         | Central         |   4             | 0               | 0.0 %           | 0/2             | 0.250           |  1              |  9362           |\n",
       "| 2016            | Adam Moore      | Indians         | Central         |   5             | 0               | 0.0 %           | 0/4             | 0.000           |  1              |  9362           |\n",
       "| 2018            | Adam Plutko     | Indians         | Central         |   2             | 0               | 0.0 %           | 0/0             | 0.000           |  0              | 15846           |\n",
       "| 2018            | Adam Rosales    | Indians         | Central         |  21             | 1               | 4.8 %           | 1/5             | 0.211           |  7              |  9682           |\n",
       "\n"
      ],
      "text/plain": [
       "  year name            team    division PA  HR BBrate BB_K  AVG   FB playerid\n",
       "1 2016 Abraham Almonte Indians Central  194 1  4.1 %  8/42  0.264 43  5486   \n",
       "2 2017 Abraham Almonte Indians Central  195 3  10.3 % 20/46 0.233 34  5486   \n",
       "3 2015 Adam Moore      Indians Central    4 0  0.0 %  0/2   0.250  1  9362   \n",
       "4 2016 Adam Moore      Indians Central    5 0  0.0 %  0/4   0.000  1  9362   \n",
       "5 2018 Adam Plutko     Indians Central    2 0  0.0 %  0/0   0.000  0 15846   \n",
       "6 2018 Adam Rosales    Indians Central   21 1  4.8 %  1/5   0.211  7  9682   "
      ]
     },
     "metadata": {},
     "output_type": "display_data"
    }
   ],
   "source": [
    "mlb = read_csv('https://raw.githubusercontent.com/bmanzo/stats306_labs/master/lab05/mlb.csv')\n",
    "head(mlb)"
   ]
  },
  {
   "cell_type": "markdown",
   "metadata": {},
   "source": [
    "### Problem 1\n",
    "\n",
    "Calculate the HR per FB rate for each team and year. Convert this to a long dataset, so your variables should be `division`, `team`, and `2015`-`2018`, where values are the HR/FB rate. Note that you should ensure that `division` is still in the dataset.\n",
    "\n",
    "Create a variable called `increased`, which checks if the HR/FB rate was higher in 2018 than it was in 2015 for that team."
   ]
  },
  {
   "cell_type": "code",
   "execution_count": null,
   "metadata": {},
   "outputs": [],
   "source": []
  },
  {
   "cell_type": "markdown",
   "metadata": {},
   "source": [
    "Turn this back into a \"long\" dataset and create a plot of HR/FB rate on year. Color it by `team`, facet it by `division`, and choose the linetype according to the `increased` variable."
   ]
  },
  {
   "cell_type": "code",
   "execution_count": null,
   "metadata": {},
   "outputs": [],
   "source": []
  },
  {
   "cell_type": "markdown",
   "metadata": {},
   "source": [
    "### Problem 2\n",
    "\n",
    "Go back to `mlb` and calculate total HRs and PAs per year per team. Create a wide version of this dataset. So there should be a `team` variable, then eight variables tracking values: `HR_2015`, `HR_2016`, `HR_2017`, `HR_2018`, `PA_2015`, `PA_2016`, `PA_2017`, and `PA_2018`.\n",
    "\n",
    "Hint: Once you calculate the values you can use a `gather`, `unite`, and `spread` in that order to create the wide version."
   ]
  },
  {
   "cell_type": "code",
   "execution_count": null,
   "metadata": {},
   "outputs": [],
   "source": []
  },
  {
   "cell_type": "markdown",
   "metadata": {},
   "source": [
    "### Problem 3\n",
    "\n",
    "Remove player-seasons with less than 200 `PA`. Then, for each player, calculate the change in `AVG` from the previous year to the current year and the change from the current year to the next year. Store these as two variables. If data on the previous or next year is not present, then the corresponding variable should be `NA`.\n",
    "\n",
    "Once you have these two variables, make two plots where the `x`-axis is current year `AVG` and the `y`-axis is each of these difference variables. Can you make both plots with a single command using faceting? (Hint: you may need to do some additional data transformations to accomplish this.) What conclusions can you draw from these plots?"
   ]
  },
  {
   "cell_type": "code",
   "execution_count": null,
   "metadata": {},
   "outputs": [],
   "source": []
  }
 ],
 "metadata": {
  "kernelspec": {
   "display_name": "R",
   "language": "R",
   "name": "ir"
  },
  "language_info": {
   "codemirror_mode": "r",
   "file_extension": ".r",
   "mimetype": "text/x-r-source",
   "name": "R",
   "pygments_lexer": "r",
   "version": "3.6.1"
  }
 },
 "nbformat": 4,
 "nbformat_minor": 2
}
